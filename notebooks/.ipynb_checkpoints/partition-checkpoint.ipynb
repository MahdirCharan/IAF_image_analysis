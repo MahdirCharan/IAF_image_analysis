{
 "cells": [
  {
   "cell_type": "code",
   "execution_count": 1,
   "id": "brutal-hearing",
   "metadata": {},
   "outputs": [],
   "source": [
    "import dask.dataframe as dd"
   ]
  },
  {
   "cell_type": "code",
   "execution_count": 2,
   "id": "governing-commonwealth",
   "metadata": {},
   "outputs": [],
   "source": [
    "df = dd.read_csv('../csv_files/violin_plot.csv').repartition(npartitions=10).to_csv('../many-small/*.csv', index=False)"
   ]
  },
  {
   "cell_type": "code",
   "execution_count": null,
   "id": "adaptive-arena",
   "metadata": {},
   "outputs": [],
   "source": [
    "import pandas as pd"
   ]
  },
  {
   "cell_type": "code",
   "execution_count": null,
   "id": "experimental-dress",
   "metadata": {},
   "outputs": [],
   "source": [
    "result = pd.read_csv('../many-small/0.csv')"
   ]
  }
 ],
 "metadata": {
  "kernelspec": {
   "display_name": "Python 3",
   "language": "python",
   "name": "python3"
  },
  "language_info": {
   "codemirror_mode": {
    "name": "ipython",
    "version": 3
   },
   "file_extension": ".py",
   "mimetype": "text/x-python",
   "name": "python",
   "nbconvert_exporter": "python",
   "pygments_lexer": "ipython3",
   "version": "3.8.5"
  }
 },
 "nbformat": 4,
 "nbformat_minor": 5
}
