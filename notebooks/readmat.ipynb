{
 "cells": [
  {
   "cell_type": "code",
   "execution_count": 1,
   "id": "addressed-lloyd",
   "metadata": {},
   "outputs": [],
   "source": [
    "import pandas as pd\n",
    "import scipy.io\n",
    "import readmat"
   ]
  },
  {
   "cell_type": "code",
   "execution_count": null,
   "id": "regional-party",
   "metadata": {},
   "outputs": [],
   "source": [
    "mat21 = readmat.load('Neutrophils_March3.mat', isStruct=True)"
   ]
  },
  {
   "cell_type": "code",
   "execution_count": null,
   "id": "guilty-thomson",
   "metadata": {},
   "outputs": [],
   "source": [
    "print(type(mat21))"
   ]
  },
  {
   "cell_type": "code",
   "execution_count": null,
   "id": "automated-factor",
   "metadata": {},
   "outputs": [],
   "source": [
    "df1 = pd.DataFrame(mat21.data1.x)"
   ]
  },
  {
   "cell_type": "code",
   "execution_count": null,
   "id": "passive-genesis",
   "metadata": {},
   "outputs": [],
   "source": [
    "loc1 = mat21.data1.y\n",
    "loc2 = mat21.data1.trId"
   ]
  },
  {
   "cell_type": "code",
   "execution_count": null,
   "id": "affiliated-racing",
   "metadata": {},
   "outputs": [],
   "source": [
    "df1[1] = loc1\n",
    "df1[2] = loc2"
   ]
  },
  {
   "cell_type": "code",
   "execution_count": null,
   "id": "interpreted-guess",
   "metadata": {},
   "outputs": [],
   "source": [
    "df1"
   ]
  },
  {
   "cell_type": "code",
   "execution_count": null,
   "id": "featured-hollow",
   "metadata": {},
   "outputs": [],
   "source": [
    "gb = df1.groupby(2)"
   ]
  },
  {
   "cell_type": "code",
   "execution_count": null,
   "id": "difficult-jesus",
   "metadata": {},
   "outputs": [],
   "source": [
    "gb.head()"
   ]
  },
  {
   "cell_type": "code",
   "execution_count": null,
   "id": "communist-badge",
   "metadata": {},
   "outputs": [],
   "source": [
    "ids = df1[2]"
   ]
  },
  {
   "cell_type": "code",
   "execution_count": null,
   "id": "fancy-miniature",
   "metadata": {},
   "outputs": [],
   "source": [
    "ids"
   ]
  },
  {
   "cell_type": "code",
   "execution_count": null,
   "id": "completed-passing",
   "metadata": {},
   "outputs": [],
   "source": [
    "id21 = df1[df1[2] == 21]"
   ]
  },
  {
   "cell_type": "code",
   "execution_count": null,
   "id": "placed-alignment",
   "metadata": {},
   "outputs": [],
   "source": [
    "id21"
   ]
  },
  {
   "cell_type": "code",
   "execution_count": null,
   "id": "verified-reynolds",
   "metadata": {
    "scrolled": true
   },
   "outputs": [],
   "source": [
    "id21.plot(x=0, y=1, style='o')"
   ]
  },
  {
   "cell_type": "code",
   "execution_count": null,
   "id": "collect-windsor",
   "metadata": {},
   "outputs": [],
   "source": [
    "data = readmat.load('Jurkat\\GC7 25-Nov-2020-20-17-20.mat', isStruct=True)"
   ]
  },
  {
   "cell_type": "code",
   "execution_count": null,
   "id": "alleged-grenada",
   "metadata": {},
   "outputs": [],
   "source": [
    "cols = data.cols\n",
    "conc = data.conc\n",
    "rows = data.rows\n",
    "Zm = (1510236 + 7683.45 * conc) * 1e-6"
   ]
  },
  {
   "cell_type": "code",
   "execution_count": null,
   "id": "declared-staff",
   "metadata": {},
   "outputs": [],
   "source": [
    "df = pd.DataFrame(conc)"
   ]
  },
  {
   "cell_type": "code",
   "execution_count": null,
   "id": "wooden-booking",
   "metadata": {},
   "outputs": [],
   "source": [
    "df['cols'] = cols\n",
    "df['rows'] = rows\n",
    "df['impedance'] = Zm\n",
    "df['prefocusing'] = 'on'"
   ]
  },
  {
   "cell_type": "code",
   "execution_count": null,
   "id": "dutch-dealing",
   "metadata": {},
   "outputs": [],
   "source": [
    "df.rename({0: \"conc\"}, axis=\"columns\")"
   ]
  },
  {
   "cell_type": "code",
   "execution_count": null,
   "id": "native-chart",
   "metadata": {},
   "outputs": [],
   "source": [
    "import seaborn as sns\n",
    "sns.set_theme(style=\"whitegrid\")\n",
    "ax = sns.violinplot(x=df[\"impedance\"])"
   ]
  },
  {
   "cell_type": "code",
   "execution_count": null,
   "id": "heated-midnight",
   "metadata": {},
   "outputs": [],
   "source": [
    "df"
   ]
  },
  {
   "cell_type": "code",
   "execution_count": null,
   "id": "greatest-reward",
   "metadata": {},
   "outputs": [],
   "source": [
    "df.to_csv ('export_dataframe.csv', index = None, header=True) "
   ]
  },
  {
   "cell_type": "code",
   "execution_count": null,
   "id": "regional-airport",
   "metadata": {},
   "outputs": [],
   "source": [
    "data = pd.read_csv('export_dataframe.csv')"
   ]
  },
  {
   "cell_type": "code",
   "execution_count": null,
   "id": "novel-learning",
   "metadata": {},
   "outputs": [],
   "source": [
    "data.info()"
   ]
  },
  {
   "cell_type": "code",
   "execution_count": null,
   "id": "ruled-catering",
   "metadata": {},
   "outputs": [],
   "source": [
    "tips = sns.load_dataset(\"tips\")"
   ]
  },
  {
   "cell_type": "code",
   "execution_count": null,
   "id": "large-migration",
   "metadata": {},
   "outputs": [],
   "source": [
    "tips"
   ]
  },
  {
   "cell_type": "code",
   "execution_count": null,
   "id": "normal-looking",
   "metadata": {},
   "outputs": [],
   "source": [
    "data1 = readmat.load('Jurkat\\GC7 25-Nov-2020-20-17-20.mat', isStruct=True)\n",
    "data2 = readmat.load('Jurkat\\GC2 25-Nov-2020-20-03-38.mat', isStruct=True)"
   ]
  },
  {
   "cell_type": "code",
   "execution_count": null,
   "id": "chicken-utilization",
   "metadata": {},
   "outputs": [],
   "source": [
    "df1 = pd.DataFrame(\n",
    "{\n",
    "\"conc\": data1.conc,\n",
    "\"cols\": data1.cols,\n",
    "\"rows\": data1.rows,\n",
    "\"impedance\": (1510236 + 7683.45 * data1.conc) * 1e-6,\n",
    "\"prefocusing\": \"Yes\",\n",
    "\"cell\": \"Jurkat\"\n",
    "})\n",
    "df2 = pd.DataFrame(\n",
    "{\n",
    "\"conc\": data2.conc,\n",
    "\"cols\": data2.cols,\n",
    "\"rows\": data2.rows,\n",
    "\"impedance\": (1510236 + 7683.45 * data2.conc) * 1e-6,\n",
    "\"prefocusing\": \"No\",\n",
    "\"cell\": \"Jurkat\"\n",
    "})"
   ]
  },
  {
   "cell_type": "code",
   "execution_count": null,
   "id": "perceived-employer",
   "metadata": {},
   "outputs": [],
   "source": [
    "frames = [df1, df2]"
   ]
  },
  {
   "cell_type": "code",
   "execution_count": null,
   "id": "former-vancouver",
   "metadata": {},
   "outputs": [],
   "source": [
    "result = pd.concat(frames, ignore_index=True)"
   ]
  },
  {
   "cell_type": "code",
   "execution_count": null,
   "id": "foreign-heater",
   "metadata": {},
   "outputs": [],
   "source": [
    "result"
   ]
  },
  {
   "cell_type": "code",
   "execution_count": 2,
   "id": "confused-timeline",
   "metadata": {},
   "outputs": [],
   "source": [
    "import seaborn as sns\n",
    "sns.set_theme(style=\"whitegrid\")"
   ]
  },
  {
   "cell_type": "code",
   "execution_count": null,
   "id": "neural-knock",
   "metadata": {},
   "outputs": [],
   "source": [
    "ax = sns.violinplot(x=\"cell\", y=\"impedance\", hue=\"prefocusing\",\n",
    "                    data=result, palette=\"muted\", split=True)"
   ]
  },
  {
   "cell_type": "code",
   "execution_count": null,
   "id": "comic-great",
   "metadata": {},
   "outputs": [],
   "source": [
    "import pandas as pd\n",
    "import scipy.io\n",
    "import readmat\n",
    "\n",
    "data1 = readmat.load('Jurkat_2.510_off.mat', isStruct=True)\n",
    "data2 = readmat.load('Jurkat_2.510_on.mat', isStruct=True)"
   ]
  },
  {
   "cell_type": "code",
   "execution_count": null,
   "id": "controlled-strain",
   "metadata": {},
   "outputs": [],
   "source": [
    "df1 = pd.DataFrame(\n",
    "{\n",
    "\"conc\": data1.conc,\n",
    "\"cols\": data1.cols,\n",
    "\"rows\": data1.rows,\n",
    "\"impedance\": (1510236 + 7683.45 * data1.conc) * 1e-6,\n",
    "\"prefocusing\": \"No\",\n",
    "\"cell\": \"Jurkat\",\n",
    "\"Q\": \"2.5_10\"\n",
    "})\n",
    "\n",
    "df2 = pd.DataFrame(\n",
    "{\n",
    "\"conc\": data2.conc,\n",
    "\"cols\": data2.cols,\n",
    "\"rows\": data2.rows,\n",
    "\"impedance\": (1510236 + 7683.45 * data2.conc) * 1e-6,\n",
    "\"prefocusing\": \"Yes\",\n",
    "\"cell\": \"Jurkat\",\n",
    "\"Q\": \"2.5_10\"\n",
    "})\n",
    "\n",
    "frames1 = [df1, df2]\n",
    "\n",
    "result1 = pd.concat(frames1, ignore_index=True)\n",
    "result1"
   ]
  },
  {
   "cell_type": "code",
   "execution_count": null,
   "id": "physical-belle",
   "metadata": {},
   "outputs": [],
   "source": [
    "import seaborn as sns\n",
    "sns.set_theme(style=\"whitegrid\")\n",
    "\n",
    "ax = sns.violinplot(x=\"cell\", y=\"impedance\", hue=\"prefocusing\",\n",
    "                    data=result1, palette=\"muted\", split=True)"
   ]
  },
  {
   "cell_type": "code",
   "execution_count": null,
   "id": "suited-science",
   "metadata": {},
   "outputs": [],
   "source": [
    "data3 = readmat.load('Jurkat_2.515_off.mat', isStruct=True)\n",
    "data4 = readmat.load('Jurkat_2.515_on.mat', isStruct=True)"
   ]
  },
  {
   "cell_type": "code",
   "execution_count": null,
   "id": "contrary-study",
   "metadata": {},
   "outputs": [],
   "source": [
    "df3 = pd.DataFrame(\n",
    "{\n",
    "\"conc\": data3.conc,\n",
    "\"cols\": data3.cols,\n",
    "\"rows\": data3.rows,\n",
    "\"impedance\": (1510236 + 7683.45 * data3.conc) * 1e-6,\n",
    "\"prefocusing\": \"No\",\n",
    "\"cell\": \"Jurkat\",\n",
    "\"Q\": \"2.5_15\"\n",
    "})\n",
    "df4 = pd.DataFrame(\n",
    "{\n",
    "\"conc\": data4.conc,\n",
    "\"cols\": data4.cols,\n",
    "\"rows\": data4.rows,\n",
    "\"impedance\": (1510236 + 7683.45 * data4.conc) * 1e-6,\n",
    "\"prefocusing\": \"Yes\",\n",
    "\"cell\": \"Jurkat\",\n",
    "\"Q\": \"2.5_15\"\n",
    "})\n",
    "\n",
    "frames2 = [df3, df4]\n",
    "\n",
    "result2 = pd.concat(frames2, ignore_index=True)\n",
    "result2"
   ]
  },
  {
   "cell_type": "code",
   "execution_count": null,
   "id": "prompt-collapse",
   "metadata": {},
   "outputs": [],
   "source": [
    "import seaborn as sns\n",
    "sns.set_theme(style=\"whitegrid\")\n",
    "\n",
    "ax = sns.violinplot(x=\"cell\", y=\"impedance\", hue=\"prefocusing\",\n",
    "                    data=result2, palette=\"muted\", split=True)"
   ]
  },
  {
   "cell_type": "code",
   "execution_count": null,
   "id": "declared-maintenance",
   "metadata": {},
   "outputs": [],
   "source": [
    "data5 = readmat.load('Jurkat_7.515_off.mat', isStruct=True)\n",
    "data6 = readmat.load('Jurkat_7.515_on.mat', isStruct=True)"
   ]
  },
  {
   "cell_type": "code",
   "execution_count": null,
   "id": "amateur-tattoo",
   "metadata": {},
   "outputs": [],
   "source": [
    "df5 = pd.DataFrame(\n",
    "{\n",
    "\"conc\": data5.conc,\n",
    "\"cols\": data5.cols,\n",
    "\"rows\": data5.rows,\n",
    "\"impedance\": (1510236 + 7683.45 * data5.conc) * 1e-6,\n",
    "\"prefocusing\": \"No\",\n",
    "\"cell\": \"Jurkat\",\n",
    "\"Q\": \"7.5_15\"\n",
    "})\n",
    "df6 = pd.DataFrame(\n",
    "{\n",
    "\"conc\": data6.conc,\n",
    "\"cols\": data6.cols,\n",
    "\"rows\": data6.rows,\n",
    "\"impedance\": (1510236 + 7683.45 * data6.conc) * 1e-6,\n",
    "\"prefocusing\": \"Yes\",\n",
    "\"cell\": \"Jurkat\",\n",
    "\"Q\": \"7.5_15\"\n",
    "})\n",
    "\n",
    "frames3 = [df5, df6]\n",
    "\n",
    "result3 = pd.concat(frames3, ignore_index=True)\n",
    "result3"
   ]
  },
  {
   "cell_type": "code",
   "execution_count": null,
   "id": "infectious-connection",
   "metadata": {},
   "outputs": [],
   "source": [
    "import seaborn as sns\n",
    "sns.set_theme(style=\"whitegrid\")\n",
    "\n",
    "ax = sns.violinplot(x=\"cell\", y=\"impedance\", hue=\"prefocusing\",\n",
    "                    data=result3, palette=\"muted\", split=True)"
   ]
  },
  {
   "cell_type": "code",
   "execution_count": null,
   "id": "prostate-thursday",
   "metadata": {},
   "outputs": [],
   "source": [
    "tot_frames = [df1, df2, df3, df4, df5, df6]\n",
    "tot_result = pd.concat(tot_frames, ignore_index=True)\n",
    "tot_result"
   ]
  },
  {
   "cell_type": "code",
   "execution_count": null,
   "id": "entitled-saint",
   "metadata": {},
   "outputs": [],
   "source": [
    "ax = sns.violinplot(x=\"Q\", y=\"impedance\", hue=\"prefocusing\",\n",
    "                    data=tot_result, palette=\"muted\", split=True)"
   ]
  },
  {
   "cell_type": "code",
   "execution_count": null,
   "id": "published-official",
   "metadata": {},
   "outputs": [],
   "source": [
    "datal = readmat.load('Jurkat_N_Q7.515_off.mat', isStruct=True)\n",
    "data2 = readmat.load('Jurkat_N_Q7.515_on.mat', isStruct=True)\n",
    "data3 = readmat.load('Jurkat_N_Q7.520_off.mat', isStruct=True)\n",
    "data4 = readmat.load('Jurkat_N_Q7.520_on.mat', isStruct=True)\n",
    "data5 = readmat.load('Jurkat_N_Q7.525_off.mat', isStruct=True)\n",
    "data6 = readmat.load('Jurkat_N_Q7.525_on.mat', isStruct=True)"
   ]
  },
  {
   "cell_type": "code",
   "execution_count": null,
   "id": "paperback-maximum",
   "metadata": {},
   "outputs": [],
   "source": [
    "df1 = pd.DataFrame(\n",
    "{\n",
    "\"conc\": data1.conc,\n",
    "\"cols\": data1.cols,\n",
    "\"rows\": data1.rows,\n",
    "\"impedance\": (1510236 + 7683.45 * data1.conc) * 1e-6,\n",
    "\"prefocusing\": \"No\",\n",
    "\"cell\": \"Jurkat\",\n",
    "\"Qcenter = 7.5 μl/min\": \"Qside = 15 μl/min\"\n",
    "})\n",
    "df2 = pd.DataFrame(\n",
    "{\n",
    "\"conc\": data2.conc,\n",
    "\"cols\": data2.cols,\n",
    "\"rows\": data2.rows,\n",
    "\"impedance\": (1510236 + 7683.45 * data2.conc) * 1e-6,\n",
    "\"prefocusing\": \"Yes\",\n",
    "\"cell\": \"Jurkat\",\n",
    "\"Qcenter = 7.5 μl/min\": \"Qside = 15 μl/min\"\n",
    "})\n",
    "df3 = pd.DataFrame(\n",
    "{\n",
    "\"conc\": data3.conc,\n",
    "\"cols\": data3.cols,\n",
    "\"rows\": data3.rows,\n",
    "\"impedance\": (1510236 + 7683.45 * data3.conc) * 1e-6,\n",
    "\"prefocusing\": \"No\",\n",
    "\"cell\": \"Jurkat\",\n",
    "\"Qcenter = 7.5 μl/min\": \"Qside = 20 μl/min\"\n",
    "})\n",
    "df4 = pd.DataFrame(\n",
    "{\n",
    "\"conc\": data4.conc,\n",
    "\"cols\": data4.cols,\n",
    "\"rows\": data4.rows,\n",
    "\"impedance\": (1510236 + 7683.45 * data4.conc) * 1e-6,\n",
    "\"prefocusing\": \"Yes\",\n",
    "\"cell\": \"Jurkat\",\n",
    "\"Qcenter = 7.5 μl/min\": \"Qside = 20 μl/min\"\n",
    "})\n",
    "\n",
    "df5 = pd.DataFrame(\n",
    "{\n",
    "\"conc\": data5.conc,\n",
    "\"cols\": data5.cols,\n",
    "\"rows\": data5.rows,\n",
    "\"impedance\": (1510236 + 7683.45 * data5.conc) * 1e-6,\n",
    "\"prefocusing\": \"No\",\n",
    "\"cell\": \"Jurkat\",\n",
    "\"Qcenter = 7.5 μl/min\": \"Qside = 25 μl/min\"\n",
    "})\n",
    "\n",
    "df6 = pd.DataFrame(\n",
    "{\n",
    "\"conc\": data6.conc,\n",
    "\"cols\": data6.cols,\n",
    "\"rows\": data6.rows,\n",
    "\"impedance\": (1510236 + 7683.45 * data6.conc) * 1e-6,\n",
    "\"prefocusing\": \"Yes\",\n",
    "\"cell\": \"Jurkat\",\n",
    "\"Qcenter = 7.5 μl/min\": \"Qside = 25 μl/min\"\n",
    "})\n",
    "\n",
    "frames = [df1, df2, df3, df4, df5, df6]\n",
    "\n",
    "result = pd.concat(frames, ignore_index=True)\n",
    "result"
   ]
  },
  {
   "cell_type": "code",
   "execution_count": null,
   "id": "outstanding-testing",
   "metadata": {},
   "outputs": [],
   "source": [
    "result.to_csv ('violin_plot.csv', index = None, header=True)"
   ]
  },
  {
   "cell_type": "code",
   "execution_count": null,
   "id": "individual-sphere",
   "metadata": {},
   "outputs": [],
   "source": [
    "ax = sns.violinplot(x=\"Qcenter = 7.5 μl/min\", y=\"impedance\", hue=\"prefocusing\",\n",
    "                    data=result, palette=\"muted\", split=True, inner=\"quartile\")\n",
    "ax.set_title(\"Distribution of impedance for Jurkat cells\");"
   ]
  },
  {
   "cell_type": "code",
   "execution_count": null,
   "id": "opposite-momentum",
   "metadata": {},
   "outputs": [],
   "source": [
    "hist1 = sns.displot(result, x=\"cols\", hue=\"Qcenter = 7.5 μl/min\",kind=\"kde\", multiple=\"stack\")"
   ]
  },
  {
   "cell_type": "code",
   "execution_count": null,
   "id": "suited-jewelry",
   "metadata": {},
   "outputs": [],
   "source": [
    "result1 = result[result[\"prefocusing\"]==\"Yes\"]\n",
    "result1"
   ]
  },
  {
   "cell_type": "code",
   "execution_count": null,
   "id": "enhanced-corruption",
   "metadata": {},
   "outputs": [],
   "source": [
    "hist2 = sns.displot(result1, x=\"cols\", hue=\"Qcenter = 7.5 μl/min\",kind=\"kde\", multiple=\"stack\")\n",
    "hist2.set(xlabel=\"Width of the channel\");"
   ]
  },
  {
   "cell_type": "code",
   "execution_count": null,
   "id": "sapphire-death",
   "metadata": {},
   "outputs": [],
   "source": [
    "data1 = readmat.load('../mat_files/Jurkat_N_Q2.505_on.mat', isStruct=True)\n",
    "data2 = readmat.load('../mat_files/Jurkat_N_Q7.515_on.mat', isStruct=True)\n",
    "data3 = readmat.load('../mat_files/Jurkat_N_Q12.525_on.mat', isStruct=True)"
   ]
  },
  {
   "cell_type": "code",
   "execution_count": null,
   "id": "weekly-missouri",
   "metadata": {},
   "outputs": [],
   "source": [
    "df1 = pd.DataFrame(\n",
    "{\n",
    "\"conc\": data1.conc,\n",
    "\"cols\": data1.cols,\n",
    "\"rows\": data1.rows,\n",
    "\"impedance\": (1510236 + 7683.45 * data1.conc) * 1e-6,\n",
    "\"prefocusing\": \"Yes\",\n",
    "\"cell\": \"Jurkat\",\n",
    "\"Qcenter/Qside = 0.5\": \"Qcenter = 2.5 μl/min\"\n",
    "})\n",
    "df2 = pd.DataFrame(\n",
    "{\n",
    "\"conc\": data2.conc,\n",
    "\"cols\": data2.cols,\n",
    "\"rows\": data2.rows,\n",
    "\"impedance\": (1510236 + 7683.45 * data2.conc) * 1e-6,\n",
    "\"prefocusing\": \"Yes\",\n",
    "\"cell\": \"Jurkat\",\n",
    "\"Qcenter/Qside = 0.5\": \"Qcenter = 7.5 μl/min\"\n",
    "})\n",
    "df3 = pd.DataFrame(\n",
    "{\n",
    "\"conc\": data3.conc,\n",
    "\"cols\": data3.cols,\n",
    "\"rows\": data3.rows,\n",
    "\"impedance\": (1510236 + 7683.45 * data3.conc) * 1e-6,\n",
    "\"prefocusing\": \"Yes\",\n",
    "\"cell\": \"Jurkat\",\n",
    "\"Qcenter/Qside = 0.5\": \"Qcenter = 12.5 μl/min\"\n",
    "})"
   ]
  },
  {
   "cell_type": "code",
   "execution_count": null,
   "id": "connected-bible",
   "metadata": {},
   "outputs": [],
   "source": [
    "frames = [df1, df2, df3]\n",
    "\n",
    "result = pd.concat(frames, ignore_index=True)\n",
    "result"
   ]
  },
  {
   "cell_type": "code",
   "execution_count": null,
   "id": "higher-minutes",
   "metadata": {},
   "outputs": [],
   "source": [
    "result.to_csv ('flow_rate.csv', index = None, header=True)"
   ]
  },
  {
   "cell_type": "code",
   "execution_count": null,
   "id": "republican-secondary",
   "metadata": {},
   "outputs": [],
   "source": [
    "ax = sns.violinplot(x=\"Qcenter/Qside = 0.5\", y=\"impedance\", data=result, palette=\"muted\")\n",
    "ax.set_title(\"Distribution of impedance for Jurkat cells\");"
   ]
  },
  {
   "cell_type": "code",
   "execution_count": null,
   "id": "chief-morning",
   "metadata": {},
   "outputs": [],
   "source": [
    "hist = sns.displot(result, x=\"cols\", hue=\"Qcenter/Qside = 0.5\",kind=\"kde\", multiple=\"stack\")\n",
    "hist.set(xlabel=\"Width of the channel\");"
   ]
  },
  {
   "cell_type": "code",
   "execution_count": 5,
   "id": "headed-india",
   "metadata": {},
   "outputs": [],
   "source": [
    "data1 = readmat.load('../mat_files/Jurkat_N_Q2.505_on.mat', isStruct=True)"
   ]
  },
  {
   "cell_type": "code",
   "execution_count": 7,
   "id": "usual-greensboro",
   "metadata": {},
   "outputs": [],
   "source": [
    "data2 = readmat.load('../mat_files/Jurkat_2.510_on.mat', isStruct=True)"
   ]
  },
  {
   "cell_type": "code",
   "execution_count": 8,
   "id": "complex-chester",
   "metadata": {},
   "outputs": [],
   "source": [
    "data3 = readmat.load('../mat_files/Jurkat_2.515_on.mat', isStruct=True)"
   ]
  },
  {
   "cell_type": "code",
   "execution_count": 9,
   "id": "hybrid-movie",
   "metadata": {},
   "outputs": [],
   "source": [
    "df1 = pd.DataFrame(\n",
    "{\n",
    "\"conc\": data1.conc,\n",
    "\"cols\": data1.cols,\n",
    "\"rows\": data1.rows,\n",
    "\"impedance\": (1510236 + 7683.45 * data1.conc) * 1e-6,\n",
    "\"prefocusing\": \"Yes\",\n",
    "\"cell\": \"Jurkat\",\n",
    "\"Qcenter = 2.5 μl/min\": \"Qside = 5 μl/min\"\n",
    "})\n",
    "df2 = pd.DataFrame(\n",
    "{\n",
    "\"conc\": data2.conc,\n",
    "\"cols\": data2.cols,\n",
    "\"rows\": data2.rows,\n",
    "\"impedance\": (1510236 + 7683.45 * data2.conc) * 1e-6,\n",
    "\"prefocusing\": \"Yes\",\n",
    "\"cell\": \"Jurkat\",\n",
    "\"Qcenter = 2.5 μl/min\": \"Qside = 10 μl/min\"\n",
    "})\n",
    "df3 = pd.DataFrame(\n",
    "{\n",
    "\"conc\": data3.conc,\n",
    "\"cols\": data3.cols,\n",
    "\"rows\": data3.rows,\n",
    "\"impedance\": (1510236 + 7683.45 * data3.conc) * 1e-6,\n",
    "\"prefocusing\": \"Yes\",\n",
    "\"cell\": \"Jurkat\",\n",
    "\"Qcenter = 2.5 μl/min\": \"Qside = 15 μl/min\"\n",
    "})"
   ]
  },
  {
   "cell_type": "code",
   "execution_count": 10,
   "id": "catholic-motel",
   "metadata": {},
   "outputs": [
    {
     "data": {
      "text/html": [
       "<div>\n",
       "<style scoped>\n",
       "    .dataframe tbody tr th:only-of-type {\n",
       "        vertical-align: middle;\n",
       "    }\n",
       "\n",
       "    .dataframe tbody tr th {\n",
       "        vertical-align: top;\n",
       "    }\n",
       "\n",
       "    .dataframe thead th {\n",
       "        text-align: right;\n",
       "    }\n",
       "</style>\n",
       "<table border=\"1\" class=\"dataframe\">\n",
       "  <thead>\n",
       "    <tr style=\"text-align: right;\">\n",
       "      <th></th>\n",
       "      <th>conc</th>\n",
       "      <th>cols</th>\n",
       "      <th>rows</th>\n",
       "      <th>impedance</th>\n",
       "      <th>prefocusing</th>\n",
       "      <th>cell</th>\n",
       "      <th>Qcenter = 2.5 μl/min</th>\n",
       "    </tr>\n",
       "  </thead>\n",
       "  <tbody>\n",
       "    <tr>\n",
       "      <th>0</th>\n",
       "      <td>18.597980</td>\n",
       "      <td>84.984940</td>\n",
       "      <td>1434.433735</td>\n",
       "      <td>1.653133</td>\n",
       "      <td>Yes</td>\n",
       "      <td>Jurkat</td>\n",
       "      <td>Qside = 5 μl/min</td>\n",
       "    </tr>\n",
       "    <tr>\n",
       "      <th>1</th>\n",
       "      <td>19.711550</td>\n",
       "      <td>125.371429</td>\n",
       "      <td>1240.892063</td>\n",
       "      <td>1.661689</td>\n",
       "      <td>Yes</td>\n",
       "      <td>Jurkat</td>\n",
       "      <td>Qside = 5 μl/min</td>\n",
       "    </tr>\n",
       "    <tr>\n",
       "      <th>2</th>\n",
       "      <td>19.835799</td>\n",
       "      <td>128.805970</td>\n",
       "      <td>1398.343284</td>\n",
       "      <td>1.662643</td>\n",
       "      <td>Yes</td>\n",
       "      <td>Jurkat</td>\n",
       "      <td>Qside = 5 μl/min</td>\n",
       "    </tr>\n",
       "    <tr>\n",
       "      <th>3</th>\n",
       "      <td>19.882111</td>\n",
       "      <td>129.744548</td>\n",
       "      <td>659.305296</td>\n",
       "      <td>1.662999</td>\n",
       "      <td>Yes</td>\n",
       "      <td>Jurkat</td>\n",
       "      <td>Qside = 5 μl/min</td>\n",
       "    </tr>\n",
       "    <tr>\n",
       "      <th>4</th>\n",
       "      <td>20.325426</td>\n",
       "      <td>140.261765</td>\n",
       "      <td>101.767647</td>\n",
       "      <td>1.666405</td>\n",
       "      <td>Yes</td>\n",
       "      <td>Jurkat</td>\n",
       "      <td>Qside = 5 μl/min</td>\n",
       "    </tr>\n",
       "    <tr>\n",
       "      <th>...</th>\n",
       "      <td>...</td>\n",
       "      <td>...</td>\n",
       "      <td>...</td>\n",
       "      <td>...</td>\n",
       "      <td>...</td>\n",
       "      <td>...</td>\n",
       "      <td>...</td>\n",
       "    </tr>\n",
       "    <tr>\n",
       "      <th>4694</th>\n",
       "      <td>15.737344</td>\n",
       "      <td>420.325635</td>\n",
       "      <td>209.766744</td>\n",
       "      <td>1.631153</td>\n",
       "      <td>Yes</td>\n",
       "      <td>Jurkat</td>\n",
       "      <td>Qside = 15 μl/min</td>\n",
       "    </tr>\n",
       "    <tr>\n",
       "      <th>4695</th>\n",
       "      <td>15.547467</td>\n",
       "      <td>422.073741</td>\n",
       "      <td>1297.208633</td>\n",
       "      <td>1.629694</td>\n",
       "      <td>Yes</td>\n",
       "      <td>Jurkat</td>\n",
       "      <td>Qside = 15 μl/min</td>\n",
       "    </tr>\n",
       "    <tr>\n",
       "      <th>4696</th>\n",
       "      <td>15.723125</td>\n",
       "      <td>420.464037</td>\n",
       "      <td>1662.767981</td>\n",
       "      <td>1.631044</td>\n",
       "      <td>Yes</td>\n",
       "      <td>Jurkat</td>\n",
       "      <td>Qside = 15 μl/min</td>\n",
       "    </tr>\n",
       "    <tr>\n",
       "      <th>4697</th>\n",
       "      <td>15.566826</td>\n",
       "      <td>421.895722</td>\n",
       "      <td>1732.446524</td>\n",
       "      <td>1.629843</td>\n",
       "      <td>Yes</td>\n",
       "      <td>Jurkat</td>\n",
       "      <td>Qside = 15 μl/min</td>\n",
       "    </tr>\n",
       "    <tr>\n",
       "      <th>4698</th>\n",
       "      <td>15.424498</td>\n",
       "      <td>423.264706</td>\n",
       "      <td>897.314480</td>\n",
       "      <td>1.628749</td>\n",
       "      <td>Yes</td>\n",
       "      <td>Jurkat</td>\n",
       "      <td>Qside = 15 μl/min</td>\n",
       "    </tr>\n",
       "  </tbody>\n",
       "</table>\n",
       "<p>4699 rows × 7 columns</p>\n",
       "</div>"
      ],
      "text/plain": [
       "           conc        cols         rows  impedance prefocusing    cell  \\\n",
       "0     18.597980   84.984940  1434.433735   1.653133         Yes  Jurkat   \n",
       "1     19.711550  125.371429  1240.892063   1.661689         Yes  Jurkat   \n",
       "2     19.835799  128.805970  1398.343284   1.662643         Yes  Jurkat   \n",
       "3     19.882111  129.744548   659.305296   1.662999         Yes  Jurkat   \n",
       "4     20.325426  140.261765   101.767647   1.666405         Yes  Jurkat   \n",
       "...         ...         ...          ...        ...         ...     ...   \n",
       "4694  15.737344  420.325635   209.766744   1.631153         Yes  Jurkat   \n",
       "4695  15.547467  422.073741  1297.208633   1.629694         Yes  Jurkat   \n",
       "4696  15.723125  420.464037  1662.767981   1.631044         Yes  Jurkat   \n",
       "4697  15.566826  421.895722  1732.446524   1.629843         Yes  Jurkat   \n",
       "4698  15.424498  423.264706   897.314480   1.628749         Yes  Jurkat   \n",
       "\n",
       "     Qcenter = 2.5 μl/min  \n",
       "0        Qside = 5 μl/min  \n",
       "1        Qside = 5 μl/min  \n",
       "2        Qside = 5 μl/min  \n",
       "3        Qside = 5 μl/min  \n",
       "4        Qside = 5 μl/min  \n",
       "...                   ...  \n",
       "4694    Qside = 15 μl/min  \n",
       "4695    Qside = 15 μl/min  \n",
       "4696    Qside = 15 μl/min  \n",
       "4697    Qside = 15 μl/min  \n",
       "4698    Qside = 15 μl/min  \n",
       "\n",
       "[4699 rows x 7 columns]"
      ]
     },
     "execution_count": 10,
     "metadata": {},
     "output_type": "execute_result"
    }
   ],
   "source": [
    "frames = [df1, df2, df3]\n",
    "\n",
    "result = pd.concat(frames, ignore_index=True)\n",
    "result"
   ]
  },
  {
   "cell_type": "code",
   "execution_count": 12,
   "id": "coated-douglas",
   "metadata": {},
   "outputs": [],
   "source": [
    "result.to_csv ('stable_2.5.csv', index = None, header=True)"
   ]
  },
  {
   "cell_type": "code",
   "execution_count": 11,
   "id": "generic-sierra",
   "metadata": {},
   "outputs": [
    {
     "data": {
      "image/png": "[encoded data removed]",
      "text/plain": [
       "<Figure size 432x288 with 1 Axes>"
      ]
     },
     "metadata": {},
     "output_type": "display_data"
    }
   ],
   "source": [
    "ax = sns.violinplot(x=\"Qcenter = 2.5 μl/min\", y=\"impedance\", data=result, palette=\"muted\")\n",
    "ax.set_title(\"Distribution of impedance for Jurkat cells\");"
   ]
  },
  {
   "cell_type": "code",
   "execution_count": null,
   "id": "unnecessary-jungle",
   "metadata": {},
   "outputs": [],
   "source": []
  }
 ],
 "metadata": {
  "kernelspec": {
   "display_name": "Python 3",
   "language": "python",
   "name": "python3"
  },
  "language_info": {
   "codemirror_mode": {
    "name": "ipython",
    "version": 3
   },
   "file_extension": ".py",
   "mimetype": "text/x-python",
   "name": "python",
   "nbconvert_exporter": "python",
   "pygments_lexer": "ipython3",
   "version": "3.8.5"
  }
 },
 "nbformat": 4,
 "nbformat_minor": 5
}
